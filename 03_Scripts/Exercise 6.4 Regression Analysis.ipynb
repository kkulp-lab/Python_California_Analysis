{
 "cells": [
  {
   "cell_type": "markdown",
   "id": "7da9884d",
   "metadata": {},
   "source": [
    "# Step 1 and 2:\n",
    "\n",
    "\n",
    "Install the scikit-learn library.\n",
    "Import the libraries you need into a new notebook, including any necessary modules from scikit-learn."
   ]
  },
  {
   "cell_type": "code",
   "execution_count": 2,
   "id": "17d99433",
   "metadata": {},
   "outputs": [],
   "source": [
    "import pandas as pd\n",
    "import numpy as np\n",
    "import seaborn as sns\n",
    "import matplotlib\n",
    "import matplotlib.pyplot as plt\n",
    "import os\n",
    "import sklearn\n",
    "from sklearn.model_selection import train_test_split \n",
    "from sklearn.linear_model import LinearRegression\n",
    "from sklearn.metrics import mean_squared_error, r2_score"
   ]
  },
  {
   "cell_type": "markdown",
   "id": "1af1b885",
   "metadata": {},
   "source": [
    "## Import data"
   ]
  },
  {
   "cell_type": "code",
   "execution_count": 3,
   "id": "0e93fc1b",
   "metadata": {},
   "outputs": [],
   "source": [
    "path = r'C:\\Users\\Jenna\\Desktop\\Data Course\\Part 6\\DATA'"
   ]
  },
  {
   "cell_type": "code",
   "execution_count": 4,
   "id": "ad95f1c4",
   "metadata": {},
   "outputs": [],
   "source": [
    "df= pd.read_csv(os.path.join(path, 'NEW_CA_data.csv'), index_col = 0)"
   ]
  },
  {
   "cell_type": "code",
   "execution_count": 5,
   "id": "5091813d",
   "metadata": {},
   "outputs": [
    {
     "data": {
      "text/html": [
       "<div>\n",
       "<style scoped>\n",
       "    .dataframe tbody tr th:only-of-type {\n",
       "        vertical-align: middle;\n",
       "    }\n",
       "\n",
       "    .dataframe tbody tr th {\n",
       "        vertical-align: top;\n",
       "    }\n",
       "\n",
       "    .dataframe thead th {\n",
       "        text-align: right;\n",
       "    }\n",
       "</style>\n",
       "<table border=\"1\" class=\"dataframe\">\n",
       "  <thead>\n",
       "    <tr style=\"text-align: right;\">\n",
       "      <th></th>\n",
       "      <th>Census Tract</th>\n",
       "      <th>Total Population</th>\n",
       "      <th>California County</th>\n",
       "      <th>County</th>\n",
       "      <th>countytrim</th>\n",
       "      <th>ZIP</th>\n",
       "      <th>Longitude</th>\n",
       "      <th>Latitude</th>\n",
       "      <th>Ozone</th>\n",
       "      <th>PM2.5</th>\n",
       "      <th>...</th>\n",
       "      <th>Imp. Water Bodies</th>\n",
       "      <th>Solid Waste</th>\n",
       "      <th>Asthma</th>\n",
       "      <th>Low Birth Weight</th>\n",
       "      <th>Cardiovascular Disease</th>\n",
       "      <th>Education</th>\n",
       "      <th>Linguistic Isolation</th>\n",
       "      <th>Poverty</th>\n",
       "      <th>Unemployment</th>\n",
       "      <th>Housing Burden</th>\n",
       "    </tr>\n",
       "  </thead>\n",
       "  <tbody>\n",
       "    <tr>\n",
       "      <th>0</th>\n",
       "      <td>6019001100</td>\n",
       "      <td>3174</td>\n",
       "      <td>Fresno</td>\n",
       "      <td>Fresno County</td>\n",
       "      <td>Fresno</td>\n",
       "      <td>93706</td>\n",
       "      <td>-119.781696</td>\n",
       "      <td>36.709695</td>\n",
       "      <td>0.065</td>\n",
       "      <td>15.40</td>\n",
       "      <td>...</td>\n",
       "      <td>0</td>\n",
       "      <td>21.75</td>\n",
       "      <td>131.64</td>\n",
       "      <td>7.44</td>\n",
       "      <td>14.13</td>\n",
       "      <td>53.3</td>\n",
       "      <td>16.2</td>\n",
       "      <td>76.3</td>\n",
       "      <td>17.6</td>\n",
       "      <td>26.0</td>\n",
       "    </tr>\n",
       "    <tr>\n",
       "      <th>1</th>\n",
       "      <td>6071001600</td>\n",
       "      <td>6133</td>\n",
       "      <td>San Bernardino</td>\n",
       "      <td>San Bernardino County</td>\n",
       "      <td>San Bernardino</td>\n",
       "      <td>91761</td>\n",
       "      <td>-117.618013</td>\n",
       "      <td>34.057780</td>\n",
       "      <td>0.062</td>\n",
       "      <td>13.31</td>\n",
       "      <td>...</td>\n",
       "      <td>5</td>\n",
       "      <td>12.00</td>\n",
       "      <td>60.66</td>\n",
       "      <td>7.04</td>\n",
       "      <td>12.94</td>\n",
       "      <td>53.3</td>\n",
       "      <td>33.4</td>\n",
       "      <td>72.5</td>\n",
       "      <td>12.3</td>\n",
       "      <td>34.1</td>\n",
       "    </tr>\n",
       "    <tr>\n",
       "      <th>2</th>\n",
       "      <td>6019000200</td>\n",
       "      <td>3167</td>\n",
       "      <td>Fresno</td>\n",
       "      <td>Fresno County</td>\n",
       "      <td>Fresno</td>\n",
       "      <td>93706</td>\n",
       "      <td>-119.805504</td>\n",
       "      <td>36.735491</td>\n",
       "      <td>0.062</td>\n",
       "      <td>15.40</td>\n",
       "      <td>...</td>\n",
       "      <td>0</td>\n",
       "      <td>2.50</td>\n",
       "      <td>142.12</td>\n",
       "      <td>10.16</td>\n",
       "      <td>14.96</td>\n",
       "      <td>42.3</td>\n",
       "      <td>16.7</td>\n",
       "      <td>86.8</td>\n",
       "      <td>16.1</td>\n",
       "      <td>40.1</td>\n",
       "    </tr>\n",
       "    <tr>\n",
       "      <th>3</th>\n",
       "      <td>6077000801</td>\n",
       "      <td>6692</td>\n",
       "      <td>San Joaquin</td>\n",
       "      <td>San Joaquin County</td>\n",
       "      <td>San Joaquin</td>\n",
       "      <td>95203</td>\n",
       "      <td>-121.314524</td>\n",
       "      <td>37.940517</td>\n",
       "      <td>0.046</td>\n",
       "      <td>12.54</td>\n",
       "      <td>...</td>\n",
       "      <td>19</td>\n",
       "      <td>27.00</td>\n",
       "      <td>142.17</td>\n",
       "      <td>6.23</td>\n",
       "      <td>14.72</td>\n",
       "      <td>40.8</td>\n",
       "      <td>15.3</td>\n",
       "      <td>61.3</td>\n",
       "      <td>19.6</td>\n",
       "      <td>21.1</td>\n",
       "    </tr>\n",
       "    <tr>\n",
       "      <th>4</th>\n",
       "      <td>6019001500</td>\n",
       "      <td>2206</td>\n",
       "      <td>Fresno</td>\n",
       "      <td>Fresno County</td>\n",
       "      <td>Fresno</td>\n",
       "      <td>93725</td>\n",
       "      <td>-119.717843</td>\n",
       "      <td>36.681600</td>\n",
       "      <td>0.065</td>\n",
       "      <td>15.40</td>\n",
       "      <td>...</td>\n",
       "      <td>0</td>\n",
       "      <td>50.80</td>\n",
       "      <td>90.48</td>\n",
       "      <td>4.50</td>\n",
       "      <td>12.82</td>\n",
       "      <td>45.1</td>\n",
       "      <td>14.7</td>\n",
       "      <td>66.4</td>\n",
       "      <td>18.6</td>\n",
       "      <td>28.1</td>\n",
       "    </tr>\n",
       "  </tbody>\n",
       "</table>\n",
       "<p>5 rows × 28 columns</p>\n",
       "</div>"
      ],
      "text/plain": [
       "   Census Tract  Total Population California County                 County  \\\n",
       "0    6019001100              3174           Fresno           Fresno County   \n",
       "1    6071001600              6133    San Bernardino  San Bernardino County   \n",
       "2    6019000200              3167           Fresno           Fresno County   \n",
       "3    6077000801              6692       San Joaquin     San Joaquin County   \n",
       "4    6019001500              2206           Fresno           Fresno County   \n",
       "\n",
       "       countytrim    ZIP   Longitude   Latitude  Ozone  PM2.5  ...  \\\n",
       "0          Fresno  93706 -119.781696  36.709695  0.065  15.40  ...   \n",
       "1  San Bernardino  91761 -117.618013  34.057780  0.062  13.31  ...   \n",
       "2          Fresno  93706 -119.805504  36.735491  0.062  15.40  ...   \n",
       "3     San Joaquin  95203 -121.314524  37.940517  0.046  12.54  ...   \n",
       "4          Fresno  93725 -119.717843  36.681600  0.065  15.40  ...   \n",
       "\n",
       "   Imp. Water Bodies  Solid Waste  Asthma  Low Birth Weight  \\\n",
       "0                  0        21.75  131.64              7.44   \n",
       "1                  5        12.00   60.66              7.04   \n",
       "2                  0         2.50  142.12             10.16   \n",
       "3                 19        27.00  142.17              6.23   \n",
       "4                  0        50.80   90.48              4.50   \n",
       "\n",
       "   Cardiovascular Disease  Education  Linguistic Isolation  Poverty  \\\n",
       "0                   14.13       53.3                  16.2     76.3   \n",
       "1                   12.94       53.3                  33.4     72.5   \n",
       "2                   14.96       42.3                  16.7     86.8   \n",
       "3                   14.72       40.8                  15.3     61.3   \n",
       "4                   12.82       45.1                  14.7     66.4   \n",
       "\n",
       "   Unemployment  Housing Burden  \n",
       "0          17.6            26.0  \n",
       "1          12.3            34.1  \n",
       "2          16.1            40.1  \n",
       "3          19.6            21.1  \n",
       "4          18.6            28.1  \n",
       "\n",
       "[5 rows x 28 columns]"
      ]
     },
     "execution_count": 5,
     "metadata": {},
     "output_type": "execute_result"
    }
   ],
   "source": [
    "df.head()"
   ]
  },
  {
   "cell_type": "markdown",
   "id": "b18d50c6",
   "metadata": {},
   "source": [
    "# Step 3: Clean your data so that it’s ready for analysis.\n",
    "\n",
    "\n",
    "The regression cannot be done with Nan values, so I will use a subset that drops missing values for poverty and cardiovascular disease"
   ]
  },
  {
   "cell_type": "code",
   "execution_count": 7,
   "id": "68b1ddc0",
   "metadata": {},
   "outputs": [],
   "source": [
    "df_2 = df.dropna(subset=['Poverty', 'Cardiovascular Disease'])"
   ]
  },
  {
   "cell_type": "markdown",
   "id": "f889143c",
   "metadata": {},
   "source": [
    "# Step 4: Explore your data visually (e.g., by way of a scatterplot), looking for variables whose relationship you’d like to test.\n",
    "\n",
    "After looking at the pair plot in exercise 6.2, I will use Poverty and Cardiovascular disease for this regression.\n",
    "\n",
    "\n"
   ]
  },
  {
   "cell_type": "code",
   "execution_count": 9,
   "id": "9baf041f",
   "metadata": {},
   "outputs": [
    {
     "data": {
      "image/png": "[encoded data removed]",
      "text/plain": [
       "<Figure size 640x480 with 1 Axes>"
      ]
     },
     "metadata": {},
     "output_type": "display_data"
    }
   ],
   "source": [
    "df_2.plot(x = 'Poverty', y='Cardiovascular Disease',style='o') # The style option creates a scatterplot; without it, we only have lines.\n",
    "plt.title('Poverty vs Cardiovascular Disease')\n",
    "plt.xlabel('Rate of Poverty')\n",
    "plt.ylabel('Rate of Cardiovascular Disease')\n",
    "plt.show()"
   ]
  },
  {
   "cell_type": "markdown",
   "id": "c905d30a",
   "metadata": {},
   "source": [
    "# Step 5: State your hypothesis in a markdown cell within your Jupyter notebook.\n",
    "\n",
    "HYPOTHESIS:     \n",
    "\n",
    "If an area has higher rates of poverty, there will be a higher rate of cardiovascular disease."
   ]
  },
  {
   "cell_type": "markdown",
   "id": "804650f4",
   "metadata": {},
   "source": [
    "# Step 6: Reshape the variables into NumPy arrays, with X being the independent variable and y being the dependent variable."
   ]
  },
  {
   "cell_type": "code",
   "execution_count": 17,
   "id": "2e250dd0",
   "metadata": {},
   "outputs": [],
   "source": [
    "# Reshape the variables into array \n",
    "\n",
    "X = df_2['Poverty'].values.reshape(-1,1) # Capitol x for independent variable\n",
    "y = df_2['Asthma'].values.reshape(-1,1) # y for dependent variable"
   ]
  },
  {
   "cell_type": "code",
   "execution_count": 18,
   "id": "dcc918bb",
   "metadata": {},
   "outputs": [
    {
     "data": {
      "text/plain": [
       "array([[76.3],\n",
       "       [72.5],\n",
       "       [86.8],\n",
       "       ...,\n",
       "       [24.7],\n",
       "       [21. ],\n",
       "       [29. ]])"
      ]
     },
     "execution_count": 18,
     "metadata": {},
     "output_type": "execute_result"
    }
   ],
   "source": [
    "# Check the X array\n",
    "X"
   ]
  },
  {
   "cell_type": "code",
   "execution_count": 19,
   "id": "9f9b11c7",
   "metadata": {
    "scrolled": true
   },
   "outputs": [
    {
     "data": {
      "text/plain": [
       "array([[131.64],\n",
       "       [ 60.66],\n",
       "       [142.12],\n",
       "       ...,\n",
       "       [ 40.43],\n",
       "       [ 88.35],\n",
       "       [ 11.8 ]])"
      ]
     },
     "execution_count": 19,
     "metadata": {},
     "output_type": "execute_result"
    }
   ],
   "source": [
    "# check y array\n",
    "\n",
    "y"
   ]
  },
  {
   "cell_type": "markdown",
   "id": "b557fd16",
   "metadata": {},
   "source": [
    "# Step 7: Split the data into two sets: a training set and a test set."
   ]
  },
  {
   "cell_type": "code",
   "execution_count": 20,
   "id": "d1047a46",
   "metadata": {},
   "outputs": [],
   "source": [
    "# split data into training and test set using the train_test_split function from scikit learn\n",
    "\n",
    "# the function randomly shuffles data and splits it\n",
    "# the variables store the training and testing data based on the split\n",
    "# test size 0.3 means that 30% of the data is used for testing, the other 70% used for training\n",
    "# random_state is any number that when used again we reproduce the same results (random seed concept)\n",
    "\n",
    "X_train, X_test, y_train, y_test = train_test_split(X, y, test_size=0.3, random_state=0)"
   ]
  },
  {
   "cell_type": "markdown",
   "id": "dd19eb33",
   "metadata": {},
   "source": [
    "# Step 8: Run a linear regression on the data.   \n",
    "First, fit the model you created to the training set.   \n",
    "Then, create a prediction for y on the test set.   "
   ]
  },
  {
   "cell_type": "code",
   "execution_count": 21,
   "id": "cb3c2210",
   "metadata": {},
   "outputs": [],
   "source": [
    "# set a regression object to fit onto the training data\n",
    "\n",
    "regression = LinearRegression() "
   ]
  },
  {
   "cell_type": "code",
   "execution_count": 22,
   "id": "a29f6584",
   "metadata": {},
   "outputs": [
    {
     "data": {
      "text/html": [
       "<style>#sk-container-id-1 {color: black;background-color: white;}#sk-container-id-1 pre{padding: 0;}#sk-container-id-1 div.sk-toggleable {background-color: white;}#sk-container-id-1 label.sk-toggleable__label {cursor: pointer;display: block;width: 100%;margin-bottom: 0;padding: 0.3em;box-sizing: border-box;text-align: center;}#sk-container-id-1 label.sk-toggleable__label-arrow:before {content: \"▸\";float: left;margin-right: 0.25em;color: #696969;}#sk-container-id-1 label.sk-toggleable__label-arrow:hover:before {color: black;}#sk-container-id-1 div.sk-estimator:hover label.sk-toggleable__label-arrow:before {color: black;}#sk-container-id-1 div.sk-toggleable__content {max-height: 0;max-width: 0;overflow: hidden;text-align: left;background-color: #f0f8ff;}#sk-container-id-1 div.sk-toggleable__content pre {margin: 0.2em;color: black;border-radius: 0.25em;background-color: #f0f8ff;}#sk-container-id-1 input.sk-toggleable__control:checked~div.sk-toggleable__content {max-height: 200px;max-width: 100%;overflow: auto;}#sk-container-id-1 input.sk-toggleable__control:checked~label.sk-toggleable__label-arrow:before {content: \"▾\";}#sk-container-id-1 div.sk-estimator input.sk-toggleable__control:checked~label.sk-toggleable__label {background-color: #d4ebff;}#sk-container-id-1 div.sk-label input.sk-toggleable__control:checked~label.sk-toggleable__label {background-color: #d4ebff;}#sk-container-id-1 input.sk-hidden--visually {border: 0;clip: rect(1px 1px 1px 1px);clip: rect(1px, 1px, 1px, 1px);height: 1px;margin: -1px;overflow: hidden;padding: 0;position: absolute;width: 1px;}#sk-container-id-1 div.sk-estimator {font-family: monospace;background-color: #f0f8ff;border: 1px dotted black;border-radius: 0.25em;box-sizing: border-box;margin-bottom: 0.5em;}#sk-container-id-1 div.sk-estimator:hover {background-color: #d4ebff;}#sk-container-id-1 div.sk-parallel-item::after {content: \"\";width: 100%;border-bottom: 1px solid gray;flex-grow: 1;}#sk-container-id-1 div.sk-label:hover label.sk-toggleable__label {background-color: #d4ebff;}#sk-container-id-1 div.sk-serial::before {content: \"\";position: absolute;border-left: 1px solid gray;box-sizing: border-box;top: 0;bottom: 0;left: 50%;z-index: 0;}#sk-container-id-1 div.sk-serial {display: flex;flex-direction: column;align-items: center;background-color: white;padding-right: 0.2em;padding-left: 0.2em;position: relative;}#sk-container-id-1 div.sk-item {position: relative;z-index: 1;}#sk-container-id-1 div.sk-parallel {display: flex;align-items: stretch;justify-content: center;background-color: white;position: relative;}#sk-container-id-1 div.sk-item::before, #sk-container-id-1 div.sk-parallel-item::before {content: \"\";position: absolute;border-left: 1px solid gray;box-sizing: border-box;top: 0;bottom: 0;left: 50%;z-index: -1;}#sk-container-id-1 div.sk-parallel-item {display: flex;flex-direction: column;z-index: 1;position: relative;background-color: white;}#sk-container-id-1 div.sk-parallel-item:first-child::after {align-self: flex-end;width: 50%;}#sk-container-id-1 div.sk-parallel-item:last-child::after {align-self: flex-start;width: 50%;}#sk-container-id-1 div.sk-parallel-item:only-child::after {width: 0;}#sk-container-id-1 div.sk-dashed-wrapped {border: 1px dashed gray;margin: 0 0.4em 0.5em 0.4em;box-sizing: border-box;padding-bottom: 0.4em;background-color: white;}#sk-container-id-1 div.sk-label label {font-family: monospace;font-weight: bold;display: inline-block;line-height: 1.2em;}#sk-container-id-1 div.sk-label-container {text-align: center;}#sk-container-id-1 div.sk-container {/* jupyter's `normalize.less` sets `[hidden] { display: none; }` but bootstrap.min.css set `[hidden] { display: none !important; }` so we also need the `!important` here to be able to override the default hidden behavior on the sphinx rendered scikit-learn.org. See: https://github.com/scikit-learn/scikit-learn/issues/21755 */display: inline-block !important;position: relative;}#sk-container-id-1 div.sk-text-repr-fallback {display: none;}</style><div id=\"sk-container-id-1\" class=\"sk-top-container\"><div class=\"sk-text-repr-fallback\"><pre>LinearRegression()</pre><b>In a Jupyter environment, please rerun this cell to show the HTML representation or trust the notebook. <br />On GitHub, the HTML representation is unable to render, please try loading this page with nbviewer.org.</b></div><div class=\"sk-container\" hidden><div class=\"sk-item\"><div class=\"sk-estimator sk-toggleable\"><input class=\"sk-toggleable__control sk-hidden--visually\" id=\"sk-estimator-id-1\" type=\"checkbox\" checked><label for=\"sk-estimator-id-1\" class=\"sk-toggleable__label sk-toggleable__label-arrow\">LinearRegression</label><div class=\"sk-toggleable__content\"><pre>LinearRegression()</pre></div></div></div></div></div>"
      ],
      "text/plain": [
       "LinearRegression()"
      ]
     },
     "execution_count": 22,
     "metadata": {},
     "output_type": "execute_result"
    }
   ],
   "source": [
    "# Fit (train) the regression object with the training set\n",
    "\n",
    "regression.fit(X_train, y_train)"
   ]
  },
  {
   "cell_type": "code",
   "execution_count": 23,
   "id": "5b1e65e2",
   "metadata": {},
   "outputs": [],
   "source": [
    "# set y predicted as the values of y predicted using the trained model and the x variable\n",
    "\n",
    "y_predicted = regression.predict(X_test)"
   ]
  },
  {
   "cell_type": "markdown",
   "id": "d799d8fd",
   "metadata": {},
   "source": [
    "# Step 9: Create a plot that shows the regression line on the test set."
   ]
  },
  {
   "cell_type": "code",
   "execution_count": 25,
   "id": "1cffdfe0",
   "metadata": {},
   "outputs": [
    {
     "data": {
      "image/png": "[encoded data removed]",
      "text/plain": [
       "<Figure size 640x480 with 1 Axes>"
      ]
     },
     "metadata": {},
     "output_type": "display_data"
    }
   ],
   "source": [
    "# Create a plot that shows the regression line from the model on the test set.\n",
    "# this shows the gray values as the actual test set and the red line as the prediction based on the model\n",
    "\n",
    "plot_test = plt\n",
    "plot_test.scatter(X_test, y_test, color='gray', s = 15)\n",
    "plot_test.plot(X_test, y_predicted, color='red', linewidth =3)\n",
    "plt.title('Poverty vs Cardiovascular Disease (Test set)')\n",
    "plt.xlabel('Rate of Poverty')\n",
    "plt.ylabel('Rate of Cardiovascular Disease')\n",
    "plot_test.show()"
   ]
  },
  {
   "cell_type": "markdown",
   "id": "7e23e08b",
   "metadata": {},
   "source": [
    "# Write your own interpretation of how well the line appears to fit the data in a markdown cell.\n",
    "\n",
    "The line does seem to follow a general trend in the data, however there are a lot of data points that would not be accurately predicted by this model."
   ]
  },
  {
   "cell_type": "markdown",
   "id": "23715e83",
   "metadata": {},
   "source": [
    "# Step 11: Check the model performance statistics—MSE and R2 score."
   ]
  },
  {
   "cell_type": "code",
   "execution_count": 26,
   "id": "64e154c7",
   "metadata": {},
   "outputs": [],
   "source": [
    "# Create objects that contain the model summary statistics.\n",
    "\n",
    "rmse = mean_squared_error(y_test, y_predicted) # This is the mean squared error between the test and the predicted values\n",
    "r2 = r2_score(y_test, y_predicted) # This is the R2 score between the test and the predicted values"
   ]
  },
  {
   "cell_type": "code",
   "execution_count": 27,
   "id": "b6b45a97",
   "metadata": {},
   "outputs": [
    {
     "name": "stdout",
     "output_type": "stream",
     "text": [
      "Slope: [[0.73582749]]\n",
      "Mean squared error:  665.2675862114726\n",
      "R2 score:  0.24438867790902896\n"
     ]
    }
   ],
   "source": [
    "# Print the model summary statistics. This is where you evaluate the performance of the model.\n",
    "\n",
    "print('Slope:' ,regression.coef_) \n",
    "print('Mean squared error: ', rmse)\n",
    "print('R2 score: ', r2)"
   ]
  },
  {
   "cell_type": "markdown",
   "id": "22625a6f",
   "metadata": {},
   "source": [
    "## Step 11:\n",
    "\n",
    "Slope: [[0.73582749]]   \n",
    "\n",
    "This is a positive slope which indicates that according to this model, as poverty increases, cv disease increases by a degree of 0.735\n",
    "\n",
    "Mean squared error:  665.2675862114726    \n",
    "\n",
    "A lower rmse value is better, this one is quite high indicating that there are many values that deviate quite a bit from the estimated values.\n",
    "\n",
    "R2 score:  0.24438867790902896    \n",
    " \n",
    "The R2 score is pretty low, meaning that only 24% of the values follow the trend predicted by this model\n"
   ]
  },
  {
   "cell_type": "markdown",
   "id": "5a42c331",
   "metadata": {},
   "source": [
    "# Step 12: Compare the predicted y values with the actual y values in a dataframe."
   ]
  },
  {
   "cell_type": "code",
   "execution_count": 28,
   "id": "bceecae3",
   "metadata": {},
   "outputs": [
    {
     "data": {
      "text/html": [
       "<div>\n",
       "<style scoped>\n",
       "    .dataframe tbody tr th:only-of-type {\n",
       "        vertical-align: middle;\n",
       "    }\n",
       "\n",
       "    .dataframe tbody tr th {\n",
       "        vertical-align: top;\n",
       "    }\n",
       "\n",
       "    .dataframe thead th {\n",
       "        text-align: right;\n",
       "    }\n",
       "</style>\n",
       "<table border=\"1\" class=\"dataframe\">\n",
       "  <thead>\n",
       "    <tr style=\"text-align: right;\">\n",
       "      <th></th>\n",
       "      <th>Actual</th>\n",
       "      <th>Predicted</th>\n",
       "    </tr>\n",
       "  </thead>\n",
       "  <tbody>\n",
       "    <tr>\n",
       "      <th>0</th>\n",
       "      <td>93.59</td>\n",
       "      <td>51.797031</td>\n",
       "    </tr>\n",
       "    <tr>\n",
       "      <th>1</th>\n",
       "      <td>36.95</td>\n",
       "      <td>73.136028</td>\n",
       "    </tr>\n",
       "    <tr>\n",
       "      <th>2</th>\n",
       "      <td>45.71</td>\n",
       "      <td>46.057576</td>\n",
       "    </tr>\n",
       "    <tr>\n",
       "      <th>3</th>\n",
       "      <td>21.37</td>\n",
       "      <td>47.823562</td>\n",
       "    </tr>\n",
       "    <tr>\n",
       "      <th>4</th>\n",
       "      <td>56.29</td>\n",
       "      <td>64.379681</td>\n",
       "    </tr>\n",
       "    <tr>\n",
       "      <th>5</th>\n",
       "      <td>31.55</td>\n",
       "      <td>35.903157</td>\n",
       "    </tr>\n",
       "    <tr>\n",
       "      <th>6</th>\n",
       "      <td>32.81</td>\n",
       "      <td>60.479795</td>\n",
       "    </tr>\n",
       "    <tr>\n",
       "      <th>7</th>\n",
       "      <td>23.12</td>\n",
       "      <td>34.799416</td>\n",
       "    </tr>\n",
       "    <tr>\n",
       "      <th>8</th>\n",
       "      <td>90.02</td>\n",
       "      <td>48.632972</td>\n",
       "    </tr>\n",
       "    <tr>\n",
       "      <th>9</th>\n",
       "      <td>88.42</td>\n",
       "      <td>80.494303</td>\n",
       "    </tr>\n",
       "    <tr>\n",
       "      <th>10</th>\n",
       "      <td>89.86</td>\n",
       "      <td>75.490676</td>\n",
       "    </tr>\n",
       "    <tr>\n",
       "      <th>11</th>\n",
       "      <td>18.12</td>\n",
       "      <td>33.842840</td>\n",
       "    </tr>\n",
       "    <tr>\n",
       "      <th>12</th>\n",
       "      <td>43.60</td>\n",
       "      <td>50.619707</td>\n",
       "    </tr>\n",
       "    <tr>\n",
       "      <th>13</th>\n",
       "      <td>60.62</td>\n",
       "      <td>41.789777</td>\n",
       "    </tr>\n",
       "    <tr>\n",
       "      <th>14</th>\n",
       "      <td>51.60</td>\n",
       "      <td>40.906784</td>\n",
       "    </tr>\n",
       "    <tr>\n",
       "      <th>15</th>\n",
       "      <td>32.76</td>\n",
       "      <td>68.647480</td>\n",
       "    </tr>\n",
       "    <tr>\n",
       "      <th>16</th>\n",
       "      <td>14.41</td>\n",
       "      <td>35.314495</td>\n",
       "    </tr>\n",
       "    <tr>\n",
       "      <th>17</th>\n",
       "      <td>58.06</td>\n",
       "      <td>65.630588</td>\n",
       "    </tr>\n",
       "    <tr>\n",
       "      <th>18</th>\n",
       "      <td>21.18</td>\n",
       "      <td>29.133544</td>\n",
       "    </tr>\n",
       "    <tr>\n",
       "      <th>19</th>\n",
       "      <td>62.27</td>\n",
       "      <td>68.794646</td>\n",
       "    </tr>\n",
       "    <tr>\n",
       "      <th>20</th>\n",
       "      <td>38.66</td>\n",
       "      <td>49.589548</td>\n",
       "    </tr>\n",
       "    <tr>\n",
       "      <th>21</th>\n",
       "      <td>26.24</td>\n",
       "      <td>32.739099</td>\n",
       "    </tr>\n",
       "    <tr>\n",
       "      <th>22</th>\n",
       "      <td>12.53</td>\n",
       "      <td>30.458033</td>\n",
       "    </tr>\n",
       "    <tr>\n",
       "      <th>23</th>\n",
       "      <td>28.34</td>\n",
       "      <td>53.636599</td>\n",
       "    </tr>\n",
       "    <tr>\n",
       "      <th>24</th>\n",
       "      <td>75.95</td>\n",
       "      <td>56.432744</td>\n",
       "    </tr>\n",
       "    <tr>\n",
       "      <th>25</th>\n",
       "      <td>84.44</td>\n",
       "      <td>56.653492</td>\n",
       "    </tr>\n",
       "    <tr>\n",
       "      <th>26</th>\n",
       "      <td>42.10</td>\n",
       "      <td>76.520834</td>\n",
       "    </tr>\n",
       "    <tr>\n",
       "      <th>27</th>\n",
       "      <td>22.86</td>\n",
       "      <td>40.465287</td>\n",
       "    </tr>\n",
       "    <tr>\n",
       "      <th>28</th>\n",
       "      <td>25.31</td>\n",
       "      <td>42.746352</td>\n",
       "    </tr>\n",
       "    <tr>\n",
       "      <th>29</th>\n",
       "      <td>21.17</td>\n",
       "      <td>45.027418</td>\n",
       "    </tr>\n",
       "  </tbody>\n",
       "</table>\n",
       "</div>"
      ],
      "text/plain": [
       "    Actual  Predicted\n",
       "0    93.59  51.797031\n",
       "1    36.95  73.136028\n",
       "2    45.71  46.057576\n",
       "3    21.37  47.823562\n",
       "4    56.29  64.379681\n",
       "5    31.55  35.903157\n",
       "6    32.81  60.479795\n",
       "7    23.12  34.799416\n",
       "8    90.02  48.632972\n",
       "9    88.42  80.494303\n",
       "10   89.86  75.490676\n",
       "11   18.12  33.842840\n",
       "12   43.60  50.619707\n",
       "13   60.62  41.789777\n",
       "14   51.60  40.906784\n",
       "15   32.76  68.647480\n",
       "16   14.41  35.314495\n",
       "17   58.06  65.630588\n",
       "18   21.18  29.133544\n",
       "19   62.27  68.794646\n",
       "20   38.66  49.589548\n",
       "21   26.24  32.739099\n",
       "22   12.53  30.458033\n",
       "23   28.34  53.636599\n",
       "24   75.95  56.432744\n",
       "25   84.44  56.653492\n",
       "26   42.10  76.520834\n",
       "27   22.86  40.465287\n",
       "28   25.31  42.746352\n",
       "29   21.17  45.027418"
      ]
     },
     "execution_count": 28,
     "metadata": {},
     "output_type": "execute_result"
    }
   ],
   "source": [
    "# Create a dataframe comparing the actual and predicted values of y.\n",
    "\n",
    "data = pd.DataFrame({'Actual': y_test.flatten(), 'Predicted': y_predicted.flatten()})\n",
    "data.head(30)"
   ]
  },
  {
   "cell_type": "markdown",
   "id": "56e54909",
   "metadata": {},
   "source": [
    "# Step 13: Include your thoughts on how well the model performed on the test set in a markdown cell.\n",
    "Include any reflections you have on the impact of possible data bias.\n",
    "\n",
    "The rate of cardiovascular disease in a community is very complicated and cannot be explained by one varible alone. Although poverty may contribute to higher rates due to lack of consistent health care or access to higher quality foods, there are many other factors involved. This line up with the models performance. The model indicates that there may be a positive relationship between poverty and cv disease, but rate of poverty is not enough to accurately predict the rate of disease in a community.\n"
   ]
  },
  {
   "cell_type": "markdown",
   "id": "b7181f4a",
   "metadata": {},
   "source": [
    "# Check the performance on the training set"
   ]
  },
  {
   "cell_type": "code",
   "execution_count": 29,
   "id": "0eef6de9",
   "metadata": {},
   "outputs": [],
   "source": [
    "# Predict.\n",
    "\n",
    "y_predicted_train = regression.predict(X_train) # This is predicting X_train!"
   ]
  },
  {
   "cell_type": "code",
   "execution_count": 30,
   "id": "97589263",
   "metadata": {},
   "outputs": [],
   "source": [
    "rmse = mean_squared_error(y_train, y_predicted_train)\n",
    "r2 = r2_score(y_train, y_predicted_train)"
   ]
  },
  {
   "cell_type": "code",
   "execution_count": 31,
   "id": "7f83d929",
   "metadata": {},
   "outputs": [
    {
     "name": "stdout",
     "output_type": "stream",
     "text": [
      "Slope: [[0.73582749]]\n",
      "Mean squared error:  724.5809543443679\n",
      "R2 score:  0.23537347513832652\n"
     ]
    }
   ],
   "source": [
    "\n",
    "print('Slope:' ,regression.coef_) \n",
    "print('Mean squared error: ', rmse)\n",
    "print('R2 score: ', r2)"
   ]
  },
  {
   "cell_type": "markdown",
   "id": "90a0ff42",
   "metadata": {},
   "source": [
    "### The model performs only slightly better on the training set, confirming that there is not a strong enough relationship between the variables to accurately predict "
   ]
  },
  {
   "cell_type": "code",
   "execution_count": null,
   "id": "67cce45b",
   "metadata": {},
   "outputs": [],
   "source": []
  }
 ],
 "metadata": {
  "kernelspec": {
   "display_name": "Python 3 (ipykernel)",
   "language": "python",
   "name": "python3"
  },
  "language_info": {
   "codemirror_mode": {
    "name": "ipython",
    "version": 3
   },
   "file_extension": ".py",
   "mimetype": "text/x-python",
   "name": "python",
   "nbconvert_exporter": "python",
   "pygments_lexer": "ipython3",
   "version": "3.10.9"
  }
 },
 "nbformat": 4,
 "nbformat_minor": 5
}
